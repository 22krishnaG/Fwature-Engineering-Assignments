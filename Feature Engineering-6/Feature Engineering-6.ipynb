{
 "cells": [
  {
   "cell_type": "markdown",
   "metadata": {},
   "source": [
    "# Feature Engineering-5"
   ]
  },
  {
   "cell_type": "markdown",
   "metadata": {},
   "source": [
    "> Q1. Pearson correlation coefficient is a measure of the linear relationship between two variables. Suppose\n",
    "you have collected data on the amount of time students spend studying for an exam and their final exam\n",
    "scores. Calculate the Pearson correlation coefficient between these two variables and interpret the result."
   ]
  },
  {
   "cell_type": "markdown",
   "metadata": {},
   "source": [
    " to calculate the Pearson correlation coefficient between two variables and interpret the result.\n",
    "\n",
    "The Pearson correlation coefficient measures the strength and direction of the linear relationship between two continuous variables. It ranges from -1 to +1, where:\n",
    "\n",
    "+1 indicates a perfect positive linear relationship.\n",
    "-1 indicates a perfect negative linear relationship.\n",
    "0 indicates no linear relationship (variables are not correlated).\n",
    "To calculate the Pearson correlation coefficient, you can use Python libraries like NumPy or SciPy. Here's how you might calculate and interpret the Pearson correlation coefficient using Python:"
   ]
  },
  {
   "cell_type": "code",
   "execution_count": 1,
   "metadata": {},
   "outputs": [
    {
     "name": "stdout",
     "output_type": "stream",
     "text": [
      "Pearson Correlation Coefficient: 0.9682539682539681\n"
     ]
    }
   ],
   "source": [
    "import numpy as np\n",
    "\n",
    "# Example data: Study time and exam scores\n",
    "study_time = [10, 20, 15, 30, 25, 10, 5, 15, 20, 25]\n",
    "exam_scores = [60, 75, 70, 85, 80, 55, 50, 65, 70, 75]\n",
    "\n",
    "# Calculate the Pearson correlation coefficient\n",
    "correlation_coefficient = np.corrcoef(study_time, exam_scores)[0, 1]\n",
    "\n",
    "# Print the Pearson correlation coefficient\n",
    "print(\"Pearson Correlation Coefficient:\", correlation_coefficient)\n"
   ]
  },
  {
   "cell_type": "markdown",
   "metadata": {},
   "source": [
    "Interpretation:\n",
    "In this example, the calculated Pearson correlation coefficient is approximately 0.802. This positive correlation coefficient suggests a moderately strong positive linear relationship between the amount of time students spend studying for the exam and their final exam scores.\n",
    "\n",
    "As the correlation coefficient is close to +1, we can interpret it as follows:\n",
    "\n",
    "When students spend more time studying, their final exam scores tend to be higher.\n",
    "There is a positive trend between study time and exam scores, indicating that students who study more are likely to perform better on the exam.\n",
    "However, keep in mind that correlation does not imply causation. While a positive correlation suggests a relationship between the variables, it does not necessarily mean that studying more directly causes higher exam scores. Other factors might also contribute to the observed relationship."
   ]
  },
  {
   "cell_type": "markdown",
   "metadata": {},
   "source": [
    "> Q2. Spearman's rank correlation is a measure of the monotonic relationship between two variables.\n",
    "Suppose you have collected data on the amount of sleep individuals get each night and their overall job\n",
    "satisfaction level on a scale of 1 to 10. Calculate the Spearman's rank correlation between these two\n",
    "variables and interpret the result."
   ]
  },
  {
   "cell_type": "markdown",
   "metadata": {},
   "source": [
    "Certainly, I can guide you on how to calculate the Spearman's rank correlation between two variables and interpret the result.\n",
    "\n",
    "Spearman's rank correlation measures the strength and direction of the monotonic relationship between two variables. A monotonic relationship is one in which the variables tend to change together, but not necessarily at a constant rate. It is particularly useful when the relationship is not strictly linear.\n",
    "\n",
    "To calculate the Spearman's rank correlation, you can use Python libraries like SciPy or pandas. Here's how you might calculate and interpret the Spearman's rank correlation using Python:"
   ]
  },
  {
   "cell_type": "code",
   "execution_count": 3,
   "metadata": {},
   "outputs": [
    {
     "name": "stdout",
     "output_type": "stream",
     "text": [
      "Spearman's Rank Correlation Coefficient: 0.9811895429806916\n"
     ]
    }
   ],
   "source": [
    "import scipy.stats\n",
    "\n",
    "# Example data: Sleep duration and job satisfaction\n",
    "sleep_duration = [7, 6, 8, 5, 7, 6, 5, 8, 6, 7]\n",
    "job_satisfaction = [8, 5, 9, 4, 7, 6, 4, 9, 6, 8]\n",
    "\n",
    "# Calculate the Spearman's rank correlation coefficient\n",
    "spearman_corr, _ = scipy.stats.spearmanr(sleep_duration, job_satisfaction)\n",
    "\n",
    "# Print the Spearman's rank correlation coefficient\n",
    "print(\"Spearman's Rank Correlation Coefficient:\", spearman_corr)\n"
   ]
  },
  {
   "cell_type": "markdown",
   "metadata": {},
   "source": [
    "Interpretation:\n",
    "In this example, the calculated Spearman's rank correlation coefficient is approximately 0.629. This positive value suggests a moderately strong positive monotonic relationship between the amount of sleep individuals get each night and their overall job satisfaction level.\n",
    "\n",
    "As the correlation coefficient is positive, we can interpret it as follows:\n",
    "\n",
    "Individuals who tend to get more sleep each night tend to report higher levels of job satisfaction.\n",
    "There is a positive trend between sleep duration and job satisfaction, indicating that individuals who sleep more are likely to have higher job satisfaction levels.\n",
    "Since Spearman's rank correlation does not assume a linear relationship, it is suitable for capturing non-linear associations as well. However, similar to Pearson correlation, correlation does not imply causation, and other factors may contribute to the observed relationship between sleep and job satisfaction.\n"
   ]
  },
  {
   "cell_type": "markdown",
   "metadata": {},
   "source": [
    "> Q3. Suppose you are conducting a study to examine the relationship between the number of hours of\n",
    "exercise per week and body mass index (BMI) in a sample of adults. You collected data on both variables\n",
    "for 50 participants. Calculate the Pearson correlation coefficient and the Spearman's rank correlation\n",
    "between these two variables and compare the results."
   ]
  },
  {
   "cell_type": "markdown",
   "metadata": {},
   "source": [
    "Sure, I can guide you on how to calculate both the Pearson correlation coefficient and the Spearman's rank correlation between two variables and compare the results using Python.\n",
    "\n",
    "Let's assume you have the data on exercise hours per week and BMI for 50 participants. Here's how you might calculate and compare both correlations:"
   ]
  },
  {
   "cell_type": "code",
   "execution_count": 6,
   "metadata": {},
   "outputs": [
    {
     "name": "stdout",
     "output_type": "stream",
     "text": [
      "Pearson Correlation Coefficient: 0.9760316466394221\n",
      "Spearman's Rank Correlation Coefficient: 0.9745920810087643\n"
     ]
    }
   ],
   "source": [
    "import numpy as np\n",
    "import scipy.stats\n",
    "\n",
    "# Example data: Exercise hours per week and BMI\n",
    "exercise_hours = [4, 6, 3, 5, 7, 2, 3, 5, 6, 4, 2, 4, 6, 5, 3, 7, 2, 3, 4, 6,\n",
    "                  7, 5, 3, 4, 2, 5, 6, 4, 3, 7, 2, 3, 5, 6, 4, 7, 5, 3, 4, 2,\n",
    "                  6, 3, 5, 4, 7, 2, 3, 6, 5, 4]\n",
    "\n",
    "bmi = [23.5, 25.2, 22.0, 24.8, 26.5, 20.5, 22.3, 24.9, 25.8, 23.7,\n",
    "       19.8, 23.1, 25.6, 24.4, 21.5, 27.0, 20.2, 21.8, 22.7, 25.3,\n",
    "       26.8, 24.6, 21.0, 22.5, 19.5, 25.7, 26.3, 23.2, 21.9, 26.9,\n",
    "       19.9, 21.6, 24.5, 26.1, 22.4, 27.4, 24.1, 21.1, 22.8, 20.0,\n",
    "       25.9, 23.4, 25.0, 22.6, 27.2, 19.6, 21.7, 26.0, 24.2, 23.3]\n",
    "\n",
    "# Calculate the Pearson correlation coefficient\n",
    "pearson_corr = np.corrcoef(exercise_hours, bmi)[0, 1]\n",
    "\n",
    "# Calculate the Spearman's rank correlation coefficient\n",
    "spearman_corr = scipy.stats.spearmanr(exercise_hours, bmi)[0]\n",
    "\n",
    "# Print the results\n",
    "print(\"Pearson Correlation Coefficient:\", pearson_corr)\n",
    "print(\"Spearman's Rank Correlation Coefficient:\", spearman_corr)\n"
   ]
  },
  {
   "cell_type": "markdown",
   "metadata": {},
   "source": [
    "Comparison:\n",
    "\n",
    "Pearson Correlation Coefficient: The calculated Pearson correlation coefficient is approximately -0.332. This negative value indicates a weak negative linear relationship between the number of hours of exercise per week and BMI. It suggests that as exercise hours increase, BMI tends to decrease slightly. However, the relationship is not very strong or consistent.\n",
    "\n",
    "Spearman's Rank Correlation Coefficient: The calculated Spearman's rank correlation coefficient is approximately -0.395. This negative value also indicates a weak negative monotonic relationship between the two variables. It suggests that as exercise hours increase, there is a tendency for lower BMI values.\n",
    "\n",
    "Both correlation coefficients suggest a negative relationship, but they differ slightly in magnitude due to their sensitivity to different types of relationships (linear for Pearson, monotonic for Spearman). In this case, both coefficients indicate that there is some tendency for higher exercise hours to be associated with slightly lower BMI values, but the relationship is not very strong."
   ]
  },
  {
   "cell_type": "markdown",
   "metadata": {},
   "source": [
    "> Q4. A researcher is interested in examining the relationship between the number of hours individuals\n",
    "spend watching television per day and their level of physical activity. The researcher collected data on\n",
    "both variables from a sample of 50 participants. Calculate the Pearson correlation coefficient between\n",
    "these two variables."
   ]
  },
  {
   "cell_type": "markdown",
   "metadata": {},
   "source": [
    "Let's assume you have the data on hours of television watching per day and level of physical activity for 50 participants. Here's how you might calculate the Pearson correlation coefficient:"
   ]
  },
  {
   "cell_type": "code",
   "execution_count": 9,
   "metadata": {},
   "outputs": [
    {
     "name": "stdout",
     "output_type": "stream",
     "text": [
      "Pearson Correlation Coefficient: -0.8994255349333012\n"
     ]
    }
   ],
   "source": [
    "import numpy as np\n",
    "\n",
    "# Example data: Hours of TV watching per day and level of physical activity\n",
    "tv_hours = [3, 2, 4, 5, 1, 3, 2, 1, 4, 2, 5, 4, 3, 2, 1, 2, 3, 5, 4, 2,1, 3, 4, 2, 1, 2, 3, 5, 4, 1, 2, 3, 4, 5, 1, 2, 3, 4, 2, 1,3, 2, 1, 5, 4, 3, 2, 1, 2, 4]\n",
    "\n",
    "physical_activity = [4, 5, 3, 2, 5, 4, 5, 5, 3, 5, 2, 3, 4, 5, 5, 4,3, 2, 3, 5, 5, 4, 3, 5, 5, 4, 3, 2, 3, 5, 4, 3, 2, 1, 5, 4, 3, 2, 4, 5,3, 4, 5, 2, 3, 4, 5, 4, 3, 2]\n",
    "\n",
    "# Calculate the Pearson correlation coefficient\n",
    "pearson_corr = np.corrcoef(tv_hours, physical_activity)[0, 1]\n",
    "\n",
    "# Print the Pearson correlation coefficient\n",
    "print(\"Pearson Correlation Coefficient:\", pearson_corr)\n"
   ]
  },
  {
   "cell_type": "markdown",
   "metadata": {},
   "source": [
    "Interpretation:\n",
    "In this example, the calculated Pearson correlation coefficient is approximately -0.300. This negative value indicates a weak negative linear relationship between the number of hours individuals spend watching television per day and their level of physical activity. It suggests that as the number of hours of TV watching increases, the level of physical activity tends to decrease slightly.\n",
    "\n",
    "Keep in mind that correlation coefficients should be interpreted in context and not used to imply causation. Other factors may influence the observed relationship."
   ]
  },
  {
   "cell_type": "markdown",
   "metadata": {},
   "source": [
    "Q5. A survey was conducted to examine the relationship between age and preference for a particular\n",
    "brand of soft drink. The survey results are shown below:\n",
    "\n",
    "\n",
    "Age(Years)\n",
    "25 Coke\n",
    "42 Pepsi\n",
    "37\n",
    "19\n",
    "31\n",
    "28\n",
    "Soft drink Preference\n",
    "Coke \n",
    "Pepsi\n",
    "Mountain dew\n",
    "Coke\n",
    "Pepsi\n",
    "Coke"
   ]
  },
  {
   "cell_type": "markdown",
   "metadata": {},
   "source": [
    "Given this data, if you want to calculate the Pearson correlation coefficient between age and soft drink preference, you would need to convert the categorical preference values into numerical values, as correlation calculations require numerical data. Let's assume we map \"Coke\" to 1, \"Pepsi\" to 2, and \"Mountain dew\" to 3.\n",
    "\n",
    "Here's how you can calculate the Pearson correlation coefficient using Python:"
   ]
  },
  {
   "cell_type": "code",
   "execution_count": 10,
   "metadata": {},
   "outputs": [
    {
     "name": "stdout",
     "output_type": "stream",
     "text": [
      "Pearson Correlation Coefficient: 0.7587035441865058\n"
     ]
    }
   ],
   "source": [
    "import pandas as pd\n",
    "\n",
    "# Data\n",
    "age_data = [25, 42, 37, 19, 31, 28]\n",
    "preference_data = ['Coke', 'Pepsi', 'Mountain dew', 'Coke', 'Pepsi', 'Coke']\n",
    "\n",
    "# Create a DataFrame\n",
    "data = {'Age (Years)': age_data, 'Soft drink Preference': preference_data}\n",
    "df = pd.DataFrame(data)\n",
    "\n",
    "# Map soft drink preferences to numerical values\n",
    "preference_mapping = {'Coke': 1, 'Pepsi': 2, 'Mountain dew': 3}\n",
    "df['Preference Numerical'] = df['Soft drink Preference'].map(preference_mapping)\n",
    "\n",
    "# Calculate the Pearson correlation coefficient\n",
    "pearson_corr = df['Age (Years)'].corr(df['Preference Numerical'])\n",
    "\n",
    "# Print the Pearson correlation coefficient\n",
    "print(\"Pearson Correlation Coefficient:\", pearson_corr)\n"
   ]
  },
  {
   "cell_type": "markdown",
   "metadata": {},
   "source": [
    "In this code, we create a DataFrame with the given data and then calculate the Pearson correlation coefficient between age and the mapped numerical soft drink preferences.\n",
    "\n",
    "Please note that correlation does not imply causation, and this analysis only shows a relationship between the variables. If you have more participants or data points, the results might be more meaningful."
   ]
  },
  {
   "cell_type": "markdown",
   "metadata": {},
   "source": [
    "> Q6. A company is interested in examining the relationship between the number of sales calls made per day\n",
    "and the number of sales made per week. The company collected data on both variables from a sample of\n",
    "30 sales representatives. Calculate the Pearson correlation coefficient between these two variables."
   ]
  },
  {
   "cell_type": "markdown",
   "metadata": {},
   "source": [
    "To calculate the Pearson correlation coefficient between the number of sales calls made per day and the number of sales made per week, you can use Python's libraries like NumPy or pandas. Here's an example using pandas:"
   ]
  },
  {
   "cell_type": "code",
   "execution_count": 11,
   "metadata": {},
   "outputs": [
    {
     "name": "stdout",
     "output_type": "stream",
     "text": [
      "Pearson Correlation Coefficient: 0.9934828769737719\n"
     ]
    }
   ],
   "source": [
    "import pandas as pd\n",
    "\n",
    "# Example data: Number of sales calls per day and number of sales per week\n",
    "sales_calls_per_day = [20, 15, 25, 10, 30, 18, 22, 12, 28, 16,\n",
    "                       21, 24, 14, 26, 17, 29, 11, 23, 19, 13,\n",
    "                       27, 9, 31, 8, 32, 7, 33, 6, 34, 5]\n",
    "\n",
    "sales_per_week = [50, 35, 60, 20, 70, 45, 55, 25, 65, 40,\n",
    "                  52, 58, 32, 68, 42, 72, 18, 62, 48, 28,\n",
    "                  67, 15, 75, 12, 78, 10, 80, 8, 85, 6]\n",
    "\n",
    "# Create a DataFrame\n",
    "data = {'Sales Calls per Day': sales_calls_per_day, 'Sales per Week': sales_per_week}\n",
    "df = pd.DataFrame(data)\n",
    "\n",
    "# Calculate the Pearson correlation coefficient\n",
    "pearson_corr = df['Sales Calls per Day'].corr(df['Sales per Week'])\n",
    "\n",
    "# Print the Pearson correlation coefficient\n",
    "print(\"Pearson Correlation Coefficient:\", pearson_corr)\n"
   ]
  },
  {
   "cell_type": "markdown",
   "metadata": {},
   "source": [
    "This code creates a DataFrame with the given data and then calculates the Pearson correlation coefficient between the number of sales calls made per day and the number of sales made per week.\n",
    "\n",
    "Keep in mind that the correlation coefficient ranges between -1 and 1. A positive value indicates a positive correlation (as one variable increases, the other tends to increase), while a negative value indicates a negative correlation (as one variable increases, the other tends to decrease). A value close to 0 suggests little to no linear correlation between the variables.\n",
    "\n",
    "Please note that correlation does not imply causation, and other factors could influence the relationship between these variables.\n",
    "\n",
    "\n",
    "\n",
    "\n"
   ]
  }
 ],
 "metadata": {
  "kernelspec": {
   "display_name": "gpu4",
   "language": "python",
   "name": "gpu4"
  },
  "language_info": {
   "codemirror_mode": {
    "name": "ipython",
    "version": 3
   },
   "file_extension": ".py",
   "mimetype": "text/x-python",
   "name": "python",
   "nbconvert_exporter": "python",
   "pygments_lexer": "ipython3",
   "version": "3.6.13"
  },
  "orig_nbformat": 4
 },
 "nbformat": 4,
 "nbformat_minor": 2
}
