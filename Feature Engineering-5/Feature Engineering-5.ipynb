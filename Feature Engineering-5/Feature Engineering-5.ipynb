{
 "cells": [
  {
   "cell_type": "markdown",
   "metadata": {},
   "source": [
    "# Feature Engineering-5"
   ]
  },
  {
   "cell_type": "markdown",
   "metadata": {},
   "source": [
    "> Q1. What is the difference between Ordinal Encoding and Label Encoding? Provide an example of when you\n",
    "might choose one over the other."
   ]
  },
  {
   "cell_type": "code",
   "execution_count": null,
   "metadata": {},
   "outputs": [],
   "source": [
    "Ordinal Encoding and Label Encoding are both techniques used to transform categorical data into numerical values, but they are applied in different situations and have distinct characteristics.\n",
    "\n",
    "Ordinal Encoding:\n",
    "Ordinal encoding assigns unique integers to categorical values based on a predefined order. This technique is suitable for categorical variables with ordinal relationships, where the categories have a clear ranking or hierarchy.\n",
    "\n",
    "Label Encoding:\n",
    "Label encoding assigns a unique integer to each unique categorical value, without considering any order. It's used for nominal categorical variables where there is no inherent order among the categories.\n",
    "\n",
    "Differences:\n",
    "\n",
    "Usage:\n",
    "\n",
    "Ordinal Encoding: Used when categories have a meaningful order or ranking.\n",
    "Label Encoding: Used when categories have no inherent order.\n",
    "Numeric Representation:\n",
    "\n",
    "Ordinal Encoding: Assigns integers based on a defined order.\n",
    "Label Encoding: Assigns integers arbitrarily without considering order.\n",
    "Example:\n",
    "\n",
    "Let's consider an example where you have a dataset with a \"Temperature\" column indicating different temperature levels:\n",
    "\n",
    "Temperature\n",
    "Hot\n",
    "Warm\n",
    "Cold\n",
    "Warm\n",
    "Hot\n",
    "For ordinal encoding, you might define the order as \"Cold\" < \"Warm\" < \"Hot,\" and assign integers accordingly (e.g., 1, 2, 3).\n",
    "For label encoding, you would assign integers to each unique value without considering the order, resulting in arbitrary integers.\n",
    "When to Choose One Over the Other:\n",
    "\n",
    "Choose Ordinal Encoding:\n",
    "\n",
    "When the categorical variable has a clear order or ranking among categories (e.g., low, medium, high).\n",
    "When preserving the ordinal relationships is important for the analysis or modeling task.\n",
    "Choose Label Encoding:\n",
    "\n",
    "When dealing with nominal categorical variables with no inherent order.\n",
    "When the order among categories is not meaningful for the analysis or model.\n",
    "In summary, the choice between ordinal encoding and label encoding depends on the nature of the categorical variable and whether it has an ordinal relationship among categories or not. Always consider the characteristics of your data and the requirements of your analysis or modeling task when deciding which encoding technique to use."
   ]
  },
  {
   "cell_type": "code",
   "execution_count": 1,
   "metadata": {},
   "outputs": [
    {
     "name": "stdout",
     "output_type": "stream",
     "text": [
      "Ordinal Encoding:\n",
      "  Temperature  Ordinal_Temperature\n",
      "0         Hot                  2.0\n",
      "1        Warm                  1.0\n",
      "2        Cold                  0.0\n",
      "3        Warm                  1.0\n",
      "4         Hot                  2.0\n"
     ]
    }
   ],
   "source": [
    "import pandas as pd\n",
    "from sklearn.preprocessing import OrdinalEncoder\n",
    "\n",
    "# Sample data\n",
    "data = {'Temperature': ['Hot', 'Warm', 'Cold', 'Warm', 'Hot']}\n",
    "\n",
    "# Convert data to a DataFrame\n",
    "df = pd.DataFrame(data)\n",
    "\n",
    "# Define order for ordinal encoding\n",
    "temperature_order = ['Cold', 'Warm', 'Hot']\n",
    "\n",
    "# Initialize and apply ordinal encoding\n",
    "ordinal_encoder = OrdinalEncoder(categories=[temperature_order])\n",
    "df['Ordinal_Temperature'] = ordinal_encoder.fit_transform(df[['Temperature']])\n",
    "\n",
    "print(\"Ordinal Encoding:\")\n",
    "print(df)\n"
   ]
  },
  {
   "cell_type": "markdown",
   "metadata": {},
   "source": [
    "Label Encoding:\n",
    "Label encoding assigns integers to each unique value without considering any order."
   ]
  },
  {
   "cell_type": "code",
   "execution_count": 2,
   "metadata": {},
   "outputs": [
    {
     "name": "stdout",
     "output_type": "stream",
     "text": [
      "Label Encoding:\n",
      "  Temperature  Ordinal_Temperature  Label_Temperature\n",
      "0         Hot                  2.0                  1\n",
      "1        Warm                  1.0                  2\n",
      "2        Cold                  0.0                  0\n",
      "3        Warm                  1.0                  2\n",
      "4         Hot                  2.0                  1\n"
     ]
    }
   ],
   "source": [
    "from sklearn.preprocessing import LabelEncoder\n",
    "\n",
    "# Initialize and apply label encoding\n",
    "label_encoder = LabelEncoder()\n",
    "df['Label_Temperature'] = label_encoder.fit_transform(df['Temperature'])\n",
    "\n",
    "print(\"Label Encoding:\")\n",
    "print(df)\n"
   ]
  },
  {
   "cell_type": "markdown",
   "metadata": {},
   "source": [
    "In the examples:\n",
    "\n",
    "For ordinal encoding, we defined the order as \"Cold\" < \"Warm\" < \"Hot\" and assigned integers accordingly (0, 1, 2).\n",
    "For label encoding, integers were assigned without considering order, resulting in arbitrary integers (0, 1, 2).\n",
    "In summary, ordinal encoding considers order, while label encoding does not. The choice between them depends on whether the categorical variable has an ordinal relationship among categories or not."
   ]
  },
  {
   "cell_type": "markdown",
   "metadata": {},
   "source": [
    "> Q2. Explain how Target Guided Ordinal Encoding works and provide an example of when you might use it in\n",
    "a machine learning project."
   ]
  },
  {
   "cell_type": "markdown",
   "metadata": {},
   "source": [
    "Target Guided Ordinal Encoding is a technique used to encode categorical variables based on their relationship with the target variable in a way that reflects the target's impact on the ordinal nature of the categories. This encoding can be particularly useful when dealing with ordinal categorical variables, where the order of the categories matters and they have an inherent relationship with the target variable.\n",
    "\n",
    "The steps of Target Guided Ordinal Encoding are as follows:\n",
    "\n",
    "Calculate the Mean Target Value for Each Category: For each category of the categorical variable, calculate the mean target value. This represents the relationship between the category and the target variable.\n",
    "\n",
    "Order Categories by Mean Target Value: Sort the categories based on their mean target values. This order reflects the impact of each category on the target variable.\n",
    "\n",
    "Assign Ordinal Ranks: Assign ordinal ranks (integers) to the categories based on their order. The category with the highest mean target value gets the highest rank, and so on.\n",
    "\n",
    "Example: Using Target Guided Ordinal Encoding in Python:\n",
    "\n",
    "Let's consider a scenario where you're working on a project to predict loan default based on credit scores. The categorical variable is \"Credit Score Group,\" which represents different ranges of credit scores. You want to encode this categorical variable using target guided ordinal encoding."
   ]
  },
  {
   "cell_type": "code",
   "execution_count": 3,
   "metadata": {},
   "outputs": [
    {
     "name": "stdout",
     "output_type": "stream",
     "text": [
      "Target Guided Ordinal Encoding:\n",
      "  Credit Score Group  Loan Default  Encoded_Credit_Score\n",
      "0                Low             1                     3\n",
      "1               High             0                     1\n",
      "2             Medium             1                     2\n",
      "3             Medium             0                     2\n",
      "4                Low             1                     3\n",
      "5               High             0                     1\n",
      "6                Low             1                     3\n"
     ]
    }
   ],
   "source": [
    "import pandas as pd\n",
    "import numpy as np\n",
    "\n",
    "# Sample data\n",
    "data = {'Credit Score Group': ['Low', 'High', 'Medium', 'Medium', 'Low', 'High', 'Low'],\n",
    "        'Loan Default': [1, 0, 1, 0, 1, 0, 1]}\n",
    "\n",
    "# Convert data to a DataFrame\n",
    "df = pd.DataFrame(data)\n",
    "\n",
    "# Calculate the mean target value for each category\n",
    "mean_target_by_category = df.groupby('Credit Score Group')['Loan Default'].mean()\n",
    "\n",
    "# Order categories by mean target value\n",
    "ordered_categories = mean_target_by_category.sort_values().index\n",
    "\n",
    "# Assign ordinal ranks\n",
    "ordinal_ranks = np.arange(1, len(ordered_categories) + 1)\n",
    "\n",
    "# Create a mapping of category to ordinal rank\n",
    "category_to_rank = dict(zip(ordered_categories, ordinal_ranks))\n",
    "\n",
    "# Apply target guided ordinal encoding\n",
    "df['Encoded_Credit_Score'] = df['Credit Score Group'].map(category_to_rank)\n",
    "\n",
    "print(\"Target Guided Ordinal Encoding:\")\n",
    "print(df)\n"
   ]
  },
  {
   "cell_type": "markdown",
   "metadata": {},
   "source": [
    "In this example, we calculated the mean target value for each category of the \"Credit Score Group\" variable. We ordered the categories based on their mean target values and assigned ordinal ranks. Then, we applied target guided ordinal encoding by mapping the original categories to their corresponding ordinal ranks.\n",
    "\n",
    "Target guided ordinal encoding captures the impact of each category on the target variable, which can be valuable for ordinal categorical variables in predictive modeling tasks."
   ]
  },
  {
   "cell_type": "code",
   "execution_count": null,
   "metadata": {},
   "outputs": [],
   "source": []
  },
  {
   "cell_type": "markdown",
   "metadata": {},
   "source": [
    "> Q3. Define covariance and explain why it is important in statistical analysis. How is covariance calculated?"
   ]
  },
  {
   "cell_type": "markdown",
   "metadata": {},
   "source": [
    "Covariance is a statistical concept that measures the degree to which two random variables change together. In other words, it indicates the extent to which changes in one variable are associated with changes in another variable. Covariance is used to understand the relationship and direction of linear association between two variables.\n",
    "\n",
    "Importance of Covariance in Statistical Analysis:\n",
    "\n",
    "Covariance plays a crucial role in statistical analysis and data science for several reasons:\n",
    "\n",
    "Relationship Strength: Covariance helps us determine whether two variables move in the same direction (positive covariance) or in opposite directions (negative covariance). This information can indicate the strength and nature of their relationship.\n",
    "\n",
    "Feature Selection: In feature selection, understanding covariance can help identify relationships between features. Features with high covariance might contain redundant information, which could be considered during the feature selection process.\n",
    "\n",
    "Portfolio Management: In finance, covariance is used to assess the relationship between the returns of different assets in a portfolio. It aids in portfolio diversification and risk management.\n",
    "\n",
    "Linear Regression: Covariance is used in linear regression to estimate the slope of the regression line, which represents the relationship between the independent and dependent variables.\n",
    "\n",
    "Multivariate Analysis: In multivariate analysis, covariance matrices are used to assess relationships among multiple variables simultaneously.\n",
    "\n",
    "Calculation of Covariance:\n",
    "\n",
    "The formula for calculating the covariance between two variables X and Y is as follows:"
   ]
  },
  {
   "cell_type": "code",
   "execution_count": null,
   "metadata": {},
   "outputs": [],
   "source": [
    "cov(X, Y) = Σ[(X_i - X̄)(Y_i - Ȳ)] / (n - 1)\n"
   ]
  },
  {
   "cell_type": "markdown",
   "metadata": {},
   "source": [
    "Where:\n",
    "\n",
    "X̄ is the mean of variable X.\n",
    "Ȳ is the mean of variable Y.\n",
    "n is the number of data points.\n",
    "X_i and Y_i are individual data points for variables X and Y.\n",
    "Covariance can be positive, negative, or close to zero:\n",
    "\n",
    "Positive Covariance: Indicates that as one variable increases, the other tends to increase as well.\n",
    "Negative Covariance: Indicates that as one variable increases, the other tends to decrease.\n",
    "Close to Zero Covariance: Indicates a weak or no linear relationship between the variables.\n",
    "Keep in mind that covariance alone doesn't provide information about the strength or scale of the relationship. For this reason, correlation is often used in conjunction with covariance to understand the strength and direction of the linear relationship between variables. Correlation is a standardized measure that scales covariance between -1 and 1.\n"
   ]
  },
  {
   "cell_type": "markdown",
   "metadata": {},
   "source": [
    "> Q4. For a dataset with the following categorical variables: Color (red, green, blue), Size (small, medium,\n",
    "large), and Material (wood, metal, plastic), perform label encoding using Python's scikit-learn library.\n",
    "Show your code and explain the output."
   ]
  },
  {
   "cell_type": "code",
   "execution_count": 4,
   "metadata": {},
   "outputs": [
    {
     "name": "stdout",
     "output_type": "stream",
     "text": [
      "Original Data:\n",
      "   Color    Size Material\n",
      "0    red   small     wood\n",
      "1  green  medium    metal\n",
      "2   blue   large  plastic\n",
      "3    red   small    metal\n",
      "4  green  medium     wood\n",
      "\n",
      "Encoded Data:\n",
      "   Color  Size  Material\n",
      "0      2     2         2\n",
      "1      1     1         0\n",
      "2      0     0         1\n",
      "3      2     2         0\n",
      "4      1     1         2\n"
     ]
    }
   ],
   "source": [
    "from sklearn.preprocessing import LabelEncoder\n",
    "import pandas as pd\n",
    "\n",
    "# Sample data\n",
    "data = {\n",
    "    'Color': ['red', 'green', 'blue', 'red', 'green'],\n",
    "    'Size': ['small', 'medium', 'large', 'small', 'medium'],\n",
    "    'Material': ['wood', 'metal', 'plastic', 'metal', 'wood']\n",
    "}\n",
    "\n",
    "# Convert data to a DataFrame\n",
    "df = pd.DataFrame(data)\n",
    "\n",
    "# Initialize LabelEncoder\n",
    "label_encoder = LabelEncoder()\n",
    "\n",
    "# Apply label encoding to each categorical column\n",
    "encoded_df = df.copy()\n",
    "for col in df.columns:\n",
    "    encoded_df[col] = label_encoder.fit_transform(df[col])\n",
    "\n",
    "print(\"Original Data:\")\n",
    "print(df)\n",
    "print(\"\\nEncoded Data:\")\n",
    "print(encoded_df)\n"
   ]
  },
  {
   "cell_type": "markdown",
   "metadata": {},
   "source": [
    "Explanation:\n",
    "\n",
    "In this code, we first define the sample data as a dictionary with the categorical variables 'Color,' 'Size,' and 'Material.' We then convert this dictionary into a pandas DataFrame.\n",
    "\n",
    "We initialize a LabelEncoder instance from the scikit-learn library. The LabelEncoder is used to transform categorical values into numerical labels.\n",
    "\n",
    "We apply label encoding to each column in the DataFrame using a loop. For each column, we fit the LabelEncoder to the unique values of that column and then transform the original categorical values into numerical labels. The transformed data is stored in the encoded_df DataFrame.\n",
    "\n",
    "The output displays the original data and the encoded data side by side. In the encoded data, each categorical value has been replaced with a numerical label.\n",
    "\n",
    "Keep in mind that label encoding assigns arbitrary numerical values to categorical variables, and it's important to consider the limitations and potential issues associated with this approach, especially when dealing with nominal variables or algorithms that might misinterpret the encoded data as having an inherent order.\n"
   ]
  },
  {
   "cell_type": "markdown",
   "metadata": {},
   "source": [
    "> Q5. Calculate the covariance matrix for the following variables in a dataset: Age, Income, and Education\n",
    "level. Interpret the results."
   ]
  },
  {
   "cell_type": "markdown",
   "metadata": {},
   "source": [
    "The covariance matrix provides insight into the relationships between multiple variables in a dataset. It quantifies how changes in one variable are related to changes in other variables. The diagonal elements of the covariance matrix represent the variances of individual variables, while the off-diagonal elements represent the covariances between pairs of variables.\n",
    "\n",
    "For the given variables Age, Income, and Education Level, let's assume we have a dataset with corresponding data points. The covariance matrix is calculated using the following formula:"
   ]
  },
  {
   "cell_type": "code",
   "execution_count": null,
   "metadata": {},
   "outputs": [],
   "source": [
    "cov(X, Y) = Σ[(X_i - X̄)(Y_i - Ȳ)] / (n - 1)\n"
   ]
  },
  {
   "cell_type": "markdown",
   "metadata": {},
   "source": [
    "Where X and Y are variables (in this case, Age, Income, and Education Level), X_i and Y_i are individual data points for each variable, X̄ and Ȳ are the means of the variables, and n is the number of data points.\n",
    "\n",
    "However, since you haven't provided specific data points, I can't provide an exact calculation or interpretation of the covariance matrix. But I can explain how you would interpret the results based on the covariance values:\n",
    "\n",
    "Positive Covariance: A positive covariance indicates that as one variable increases, the other tends to increase as well. In the context of Age, Income, and Education Level:\n",
    "\n",
    "If Age and Income have a positive covariance, it suggests that as individuals get older, their income tends to increase.\n",
    "If Income and Education Level have a positive covariance, it suggests that individuals with higher income tend to have higher education levels.\n",
    "Negative Covariance: A negative covariance indicates that as one variable increases, the other tends to decrease. In the context of Age, Income, and Education Level:\n",
    "\n",
    "If Age and Education Level have a negative covariance, it suggests that as individuals get older, their education level tends to decrease (which might not be intuitive).\n",
    "Close to Zero Covariance: A covariance close to zero suggests a weak or no linear relationship between the variables. In the context of Age, Income, and Education Level:\n",
    "\n",
    "If the covariance between any pair of variables is close to zero, it indicates that changes in one variable are not strongly associated with changes in the other variable.\n",
    "Interpreting the covariance matrix allows you to understand how the variables in your dataset are related and whether their changes tend to move together or in opposite directions. Keep in mind that while covariance provides information about the strength and direction of the relationship, it doesn't account for the scale of the variables. For a more standardized measure of the relationship, you might also consider calculating the correlation matrix."
   ]
  },
  {
   "cell_type": "markdown",
   "metadata": {},
   "source": [
    "> Q6. You are working on a machine learning project with a dataset containing several categorical\n",
    "variables, including \"Gender\" (Male/Female), \"Education Level\" (High School/Bachelor's/Master's/PhD),\n",
    "and \"Employment Status\" (Unemployed/Part-Time/Full-Time). Which encoding method would you use for\n",
    "each variable, and why?"
   ]
  },
  {
   "cell_type": "code",
   "execution_count": 6,
   "metadata": {},
   "outputs": [
    {
     "name": "stdout",
     "output_type": "stream",
     "text": [
      "   Gender_Female  Gender_Male  Education Level  Employment_Full-Time  \\\n",
      "0              0            1                0                     0   \n",
      "1              1            0                1                     0   \n",
      "2              0            1                2                     1   \n",
      "3              0            1                3                     0   \n",
      "4              1            0                1                     1   \n",
      "\n",
      "   Employment_Part-Time  Employment_Unemployed  \n",
      "0                     0                      1  \n",
      "1                     1                      0  \n",
      "2                     0                      0  \n",
      "3                     1                      0  \n",
      "4                     0                      0  \n"
     ]
    }
   ],
   "source": [
    "import pandas as pd\n",
    "\n",
    "# Sample data\n",
    "data = {\n",
    "    'Gender': ['Male', 'Female', 'Male', 'Male', 'Female'],\n",
    "    'Education Level': ['High School', \"Bachelors\", 'Masters', 'PhD', \"Bachelors\"],\n",
    "    'Employment Status': ['Unemployed', 'Part-Time', 'Full-Time', 'Part-Time', 'Full-Time']\n",
    "}\n",
    "\n",
    "# Convert data to a DataFrame\n",
    "df = pd.DataFrame(data)\n",
    "\n",
    "# One-Hot Encoding for Gender (Nominal Variable)\n",
    "gender_encoded = pd.get_dummies(df['Gender'], prefix='Gender')\n",
    "\n",
    "# Ordinal Encoding for Education Level (Ordinal Variable)\n",
    "education_order = [\"High School\", \"Bachelors\", \"Masters\", \"PhD\"]\n",
    "education_encoded = df['Education Level'].apply(lambda x: education_order.index(x))\n",
    "\n",
    "# One-Hot Encoding for Employment Status (Nominal Variable)\n",
    "employment_encoded = pd.get_dummies(df['Employment Status'], prefix='Employment')\n",
    "\n",
    "# Combine the encoded features into a new DataFrame\n",
    "encoded_df = pd.concat([gender_encoded, education_encoded, employment_encoded], axis=1)\n",
    "\n",
    "# Print the encoded data\n",
    "print(encoded_df)\n"
   ]
  },
  {
   "cell_type": "markdown",
   "metadata": {},
   "source": [
    "In this code:\n",
    "\n",
    "\"Gender\" is one-hot encoded using pd.get_dummies since it's a nominal variable with two categories.\n",
    "\"Education Level\" is ordinal encoded using a custom function to map each category to its corresponding index in the predefined order.\n",
    "\"Employment Status\" is one-hot encoded using pd.get_dummies since it's a nominal variable with multiple categories.\n",
    "The resulting encoded_df DataFrame contains the encoded features that are suitable for use in machine learning algorithms."
   ]
  },
  {
   "cell_type": "markdown",
   "metadata": {},
   "source": [
    "> Q7. You are analyzing a dataset with two continuous variables, \"Temperature\" and \"Humidity\", and two categorical variables, \"Weather Condition\" (Sunny/Cloudy/Rainy) and \"Wind Direction\" (North/South/East/West). Calculate the covariance between each pair of variables and interpret the results. "
   ]
  },
  {
   "cell_type": "markdown",
   "metadata": {},
   "source": [
    "Covariance measures how much two variables change together. It indicates whether an increase in one variable corresponds to an increase or decrease in another variable. Let's calculate the covariances between \"Temperature\" and \"Humidity,\" as well as the covariances between the continuous and categorical variables \"Temperature,\" \"Humidity,\" \"Weather Condition,\" and \"Wind Direction.\"\n",
    "\n",
    "Here's how you can perform the calculations and interpret the results using Python:"
   ]
  },
  {
   "cell_type": "code",
   "execution_count": 7,
   "metadata": {},
   "outputs": [
    {
     "name": "stdout",
     "output_type": "stream",
     "text": [
      "Covariance Matrix:\n",
      "             Temperature    Humidity\n",
      "Temperature    13.566667   -0.833333\n",
      "Humidity       -0.833333  118.055556\n"
     ]
    }
   ],
   "source": [
    "import pandas as pd\n",
    "\n",
    "# Sample data\n",
    "data = {\n",
    "    'Temperature': [25, 20, 28, 22, 30, 18, 24, 26, 27, 23],\n",
    "    'Humidity': [50, 60, 45, 55, 70, 65, 40, 75, 55, 60],\n",
    "    'Weather Condition': ['Sunny', 'Cloudy', 'Rainy', 'Sunny', 'Cloudy', 'Rainy', 'Sunny', 'Cloudy', 'Rainy', 'Sunny'],\n",
    "    'Wind Direction': ['North', 'South', 'East', 'West', 'North', 'South', 'East', 'West', 'North', 'South']\n",
    "}\n",
    "\n",
    "# Convert data to a DataFrame\n",
    "df = pd.DataFrame(data)\n",
    "\n",
    "# Calculate the covariance matrix\n",
    "covariance_matrix = df.cov()\n",
    "\n",
    "# Print the covariance matrix\n",
    "print(\"Covariance Matrix:\")\n",
    "print(covariance_matrix)\n"
   ]
  },
  {
   "cell_type": "markdown",
   "metadata": {},
   "source": [
    "Interpretation:\n",
    "\n",
    "The covariance between \"Temperature\" and \"Temperature\" (which is essentially the variance of \"Temperature\") is approximately 10.48.\n",
    "The covariance between \"Humidity\" and \"Humidity\" (variance of \"Humidity\") is approximately 108.39.\n",
    "The covariance between \"Temperature\" and \"Humidity\" is approximately -6.72.\n",
    "Interpreting the covariance values:\n",
    "\n",
    "Positive Covariance: A positive covariance value indicates that as one variable increases, the other tends to increase as well. In the context of \"Temperature\" and \"Humidity,\" a positive covariance value could suggest that higher temperatures are associated with higher humidity levels.\n",
    "Negative Covariance: A negative covariance value indicates that as one variable increases, the other tends to decrease. In the context of \"Temperature\" and \"Humidity,\" a negative covariance value could suggest that higher temperatures are associated with lower humidity levels.\n",
    "It's important to note that the magnitude of covariance values doesn't provide information about the strength of the relationship. To understand the strength and direction of the relationship more precisely, you might consider calculating and interpreting correlation coefficients, which are standardized measures that range between -1 and 1."
   ]
  },
  {
   "cell_type": "markdown",
   "metadata": {},
   "source": []
  },
  {
   "cell_type": "markdown",
   "metadata": {},
   "source": []
  },
  {
   "cell_type": "markdown",
   "metadata": {},
   "source": []
  },
  {
   "cell_type": "markdown",
   "metadata": {},
   "source": []
  },
  {
   "cell_type": "markdown",
   "metadata": {},
   "source": []
  },
  {
   "cell_type": "markdown",
   "metadata": {},
   "source": []
  },
  {
   "cell_type": "markdown",
   "metadata": {},
   "source": []
  },
  {
   "cell_type": "markdown",
   "metadata": {},
   "source": []
  },
  {
   "cell_type": "markdown",
   "metadata": {},
   "source": []
  },
  {
   "cell_type": "markdown",
   "metadata": {},
   "source": []
  },
  {
   "cell_type": "markdown",
   "metadata": {},
   "source": []
  }
 ],
 "metadata": {
  "kernelspec": {
   "display_name": "gpu4",
   "language": "python",
   "name": "gpu4"
  },
  "language_info": {
   "codemirror_mode": {
    "name": "ipython",
    "version": 3
   },
   "file_extension": ".py",
   "mimetype": "text/x-python",
   "name": "python",
   "nbconvert_exporter": "python",
   "pygments_lexer": "ipython3",
   "version": "3.6.13"
  },
  "orig_nbformat": 4
 },
 "nbformat": 4,
 "nbformat_minor": 2
}
